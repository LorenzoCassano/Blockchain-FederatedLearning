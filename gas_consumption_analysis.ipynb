{
 "cells": [
  {
   "cell_type": "markdown",
   "source": [
    "# Libraries"
   ],
   "metadata": {
    "collapsed": false
   }
  },
  {
   "cell_type": "code",
   "execution_count": 7,
   "outputs": [],
   "source": [
    "import os\n",
    "import json\n",
    "import matplotlib.pyplot as plt\n",
    "import numpy as np\n",
    "import pandas as pd"
   ],
   "metadata": {
    "collapsed": false,
    "ExecuteTime": {
     "end_time": "2024-01-20T10:09:26.887670200Z",
     "start_time": "2024-01-20T10:09:25.774166800Z"
    }
   }
  },
  {
   "cell_type": "markdown",
   "source": [
    "# Constants"
   ],
   "metadata": {
    "collapsed": false
   }
  },
  {
   "cell_type": "code",
   "execution_count": 9,
   "outputs": [],
   "source": [
    "FOLDER_PATH = './gas_consumption/'\n",
    "FILE_EXSTENSION = '.json'"
   ],
   "metadata": {
    "collapsed": false,
    "ExecuteTime": {
     "end_time": "2024-01-20T10:10:45.277610800Z",
     "start_time": "2024-01-20T10:10:45.255955500Z"
    }
   }
  },
  {
   "cell_type": "markdown",
   "source": [
    "## Showing Results"
   ],
   "metadata": {
    "collapsed": false
   }
  },
  {
   "cell_type": "code",
   "execution_count": 36,
   "outputs": [
    {
     "name": "stdout",
     "output_type": "stream",
     "text": [
      "\t\tFees for 3 devices and [] out of battery:\n",
      "\n",
      "Collaborators:\n",
      "                       A       B       C\n",
      "retrieve_fee      28941   31532   34123\n",
      "send_fee         155983  128574  133061\n",
      "model_start_fee  150325  125507  134469\n",
      "\n",
      "Manager:\n",
      "   deploy_mocks_fee open_blockchain_fee add_collaborator_fee  \\\n",
      "0          2151147               28934               165954   \n",
      "\n",
      "  send_aggregated_weights_fee send_model_fee change_state_fee  \n",
      "0              [74405, 49805]         192543           357957  \n",
      "\n",
      "========================================\n",
      "\n",
      "\t\tFees for 4 devices and [] out of battery:\n",
      "\n",
      "Collaborators:\n",
      "                       A       B       C       D\n",
      "retrieve_fee      28941   31532   34123   36714\n",
      "send_fee         155983  128574  131165  135652\n",
      "model_start_fee  150325  125507  130689  139651\n",
      "\n",
      "Manager:\n",
      "   deploy_mocks_fee open_blockchain_fee add_collaborator_fee  \\\n",
      "0          2151147               28934               216260   \n",
      "\n",
      "  send_aggregated_weights_fee send_model_fee change_state_fee  \n",
      "0              [83795, 59195]         192543           400927  \n",
      "\n",
      "========================================\n",
      "\n",
      "\t\tFees for 5 devices and [] out of battery:\n",
      "\n",
      "Collaborators:\n",
      "                       A       B       C       D       E\n",
      "retrieve_fee      28941   31532   34123   36714   39305\n",
      "send_fee         155983  128574  131165  133756  138243\n",
      "model_start_fee  150325  125507  130689  135871  144833\n",
      "\n",
      "Manager:\n",
      "   deploy_mocks_fee open_blockchain_fee add_collaborator_fee  \\\n",
      "0          2151147               28934               266542   \n",
      "\n",
      "  send_aggregated_weights_fee send_model_fee change_state_fee  \n",
      "0              [93185, 68585]         192543           443897  \n",
      "\n",
      "========================================\n",
      "\n",
      "\t\tFees for 6 devices and [] out of battery:\n",
      "\n",
      "Collaborators:\n",
      "                       A       B       C       D       E       F\n",
      "retrieve_fee      28941   31532   34123   36714   39305   41896\n",
      "send_fee         155983  128574  131165  133756  136347  140834\n",
      "model_start_fee  150325  125507  130689  135871  141053  150015\n",
      "\n",
      "Manager:\n",
      "   deploy_mocks_fee open_blockchain_fee add_collaborator_fee  \\\n",
      "0          2151147               28934               316896   \n",
      "\n",
      "  send_aggregated_weights_fee send_model_fee change_state_fee  \n",
      "0             [102575, 77975]         192543           486867  \n",
      "\n",
      "========================================\n",
      "\n",
      "\t\tFees for 7 devices and [] out of battery:\n",
      "\n",
      "Collaborators:\n",
      "                       A       B       C       D       E       F       G\n",
      "retrieve_fee      28941   31532   34123   36714   39305   41896   44487\n",
      "send_fee         155983  128574  131165  133756  136347  138938  143425\n",
      "model_start_fee  150325  125507  130689  135871  141053  146235  155197\n",
      "\n",
      "Manager:\n",
      "   deploy_mocks_fee open_blockchain_fee add_collaborator_fee  \\\n",
      "0          2151147               28934               367226   \n",
      "\n",
      "  send_aggregated_weights_fee send_model_fee change_state_fee  \n",
      "0             [111965, 87365]         192543           529837  \n",
      "\n",
      "========================================\n",
      "\n",
      "\t\tFees for 8 devices and [] out of battery:\n",
      "\n",
      "Collaborators:\n",
      "                       A       B       C       D       E       F       G  \\\n",
      "retrieve_fee      28941   31532   34123   36714   39305   41896   44487   \n",
      "send_fee         155983  128574  131165  133756  136347  138938  141529   \n",
      "model_start_fee  150325  125507  130689  135871  141053  146235  151417   \n",
      "\n",
      "                      H  \n",
      "retrieve_fee      47078  \n",
      "send_fee         146016  \n",
      "model_start_fee  160379  \n",
      "\n",
      "Manager:\n",
      "   deploy_mocks_fee open_blockchain_fee add_collaborator_fee  \\\n",
      "0          2151147               28934               417544   \n",
      "\n",
      "  send_aggregated_weights_fee send_model_fee change_state_fee  \n",
      "0             [121355, 96755]         192543           572807  \n",
      "\n",
      "========================================\n",
      "\n",
      "\t\tFees for 9 devices and [] out of battery:\n",
      "\n",
      "Collaborators:\n",
      "                       A       B       C       D       E       F       G  \\\n",
      "retrieve_fee      28941   31532   34123   36714   39305   41896   44487   \n",
      "send_fee         155983  128574  131165  133756  136347  138938  141529   \n",
      "model_start_fee  150325  125507  130689  135871  141053  146235  151417   \n",
      "\n",
      "                      H       I  \n",
      "retrieve_fee      47078   49669  \n",
      "send_fee         144120  148607  \n",
      "model_start_fee  156599  165561  \n",
      "\n",
      "Manager:\n",
      "   deploy_mocks_fee open_blockchain_fee add_collaborator_fee  \\\n",
      "0          2151147               28934               467850   \n",
      "\n",
      "  send_aggregated_weights_fee send_model_fee change_state_fee  \n",
      "0            [130745, 106145]         192543           615777  \n",
      "\n",
      "========================================\n",
      "\n"
     ]
    }
   ],
   "source": [
    "all_files = os.listdir(FOLDER_PATH)\n",
    "\n",
    "# Filter files based on the pattern Name*_collaborator.json and Name*_manager.json\n",
    "collaborator_files = [file for file in all_files if '_collaborator' in file]\n",
    "manager_files = [file for file in all_files if '_manager' in file]\n",
    "\n",
    "# Process files in pairs (collaborator and manager)\n",
    "for collaborator_file, manager_file in zip(collaborator_files, manager_files):\n",
    "    collaborator_path = os.path.join(FOLDER_PATH, collaborator_file)\n",
    "    manager_path = os.path.join(FOLDER_PATH, manager_file)\n",
    "\n",
    "    # Load JSON data from files\n",
    "    with open(collaborator_path, 'r') as f_collaborator, open(manager_path, 'r') as f_manager:\n",
    "        collaborator_data = json.load(f_collaborator)\n",
    "        manager_data = json.load(f_manager)\n",
    "\n",
    "    for device in collaborator_data.keys():\n",
    "        collaborator_data[device]['retrieve_fee'] = collaborator_data[device]['retrieve_fee'][0]\n",
    "        collaborator_data[device]['send_fee'] = collaborator_data[device]['send_fee'][0]\n",
    "\n",
    "    manager_data['send_aggregated_weights_fee'] = [manager_data['send_aggregated_weights_fee'][0],manager_data['send_aggregated_weights_fee'][1]]\n",
    "\n",
    "    collaborator_df = pd.DataFrame.from_dict(collaborator_data, orient='index').T\n",
    "    manager_df = pd.DataFrame.from_dict(manager_data, orient='index').T\n",
    "    name_file = collaborator_file.split('_')\n",
    "    # Print DataFrames\n",
    "    print(f\"\\t\\tFees for {name_file[-3]} devices and {name_file[-2]} out of battery:\\n\")\n",
    "    print(\"Collaborators:\\n\",collaborator_df)\n",
    "    print()\n",
    "    print(\"Manager:\\n\",manager_df)\n",
    "    print(\"\\n\" + \"=\" * 40 + \"\\n\")\n"
   ],
   "metadata": {
    "collapsed": false,
    "ExecuteTime": {
     "end_time": "2024-01-20T11:31:08.653118800Z",
     "start_time": "2024-01-20T11:31:08.517085100Z"
    }
   }
  },
  {
   "cell_type": "code",
   "execution_count": 24,
   "outputs": [],
   "source": [],
   "metadata": {
    "collapsed": false,
    "ExecuteTime": {
     "end_time": "2024-01-20T10:27:04.789936400Z",
     "start_time": "2024-01-20T10:27:04.755573800Z"
    }
   }
  },
  {
   "cell_type": "code",
   "execution_count": null,
   "outputs": [],
   "source": [],
   "metadata": {
    "collapsed": false
   }
  }
 ],
 "metadata": {
  "kernelspec": {
   "display_name": "Python 3",
   "language": "python",
   "name": "python3"
  },
  "language_info": {
   "codemirror_mode": {
    "name": "ipython",
    "version": 2
   },
   "file_extension": ".py",
   "mimetype": "text/x-python",
   "name": "python",
   "nbconvert_exporter": "python",
   "pygments_lexer": "ipython2",
   "version": "2.7.6"
  }
 },
 "nbformat": 4,
 "nbformat_minor": 0
}
