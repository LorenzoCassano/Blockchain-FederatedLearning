{
  "cells": [
    {
      "cell_type": "code",
      "execution_count": 1,
      "metadata": {
        "id": "23iDagpAzbj0",
        "colab": {
          "base_uri": "https://localhost:8080/"
        },
        "outputId": "af90f48f-524f-4841-dd38-893ed5c68335"
      },
      "outputs": [
        {
          "output_type": "stream",
          "name": "stdout",
          "text": [
            "Mounted at /content/drive\n"
          ]
        }
      ],
      "source": [
        "from google.colab import drive\n",
        "drive.mount('/content/drive')"
      ]
    },
    {
      "cell_type": "markdown",
      "metadata": {
        "id": "EoCWHk2yZqhw"
      },
      "source": [
        "### Unzip"
      ]
    },
    {
      "cell_type": "code",
      "execution_count": 2,
      "metadata": {
        "id": "muxrM_LYXl8i"
      },
      "outputs": [],
      "source": [
        "!unzip /content/drive/MyDrive/blockchain/Brain_Tumor.zip >& /dev/null"
      ]
    },
    {
      "cell_type": "code",
      "execution_count": 3,
      "metadata": {
        "id": "iIL07WNj6lMd"
      },
      "outputs": [],
      "source": [
        "!unzip /content/drive/MyDrive/blockchain/Dataset.zip >& /dev/null"
      ]
    },
    {
      "cell_type": "markdown",
      "metadata": {
        "id": "rPS9epThrsu6"
      },
      "source": [
        "# Libraries"
      ]
    },
    {
      "cell_type": "code",
      "source": [
        "!pip install tensorflow_addons"
      ],
      "metadata": {
        "colab": {
          "base_uri": "https://localhost:8080/"
        },
        "id": "hLzpeGJkTWRB",
        "outputId": "9fa434a2-642c-4e9f-e0d5-b56efe90e28e"
      },
      "execution_count": 4,
      "outputs": [
        {
          "output_type": "stream",
          "name": "stdout",
          "text": [
            "Collecting tensorflow_addons\n",
            "  Downloading tensorflow_addons-0.23.0-cp310-cp310-manylinux_2_17_x86_64.manylinux2014_x86_64.whl (611 kB)\n",
            "\u001b[?25l     \u001b[90m━━━━━━━━━━━━━━━━━━━━━━━━━━━━━━━━━━━━━━━━\u001b[0m \u001b[32m0.0/611.8 kB\u001b[0m \u001b[31m?\u001b[0m eta \u001b[36m-:--:--\u001b[0m\r\u001b[2K     \u001b[91m━━━━━━━━━━━━━━━━━━\u001b[0m\u001b[90m╺\u001b[0m\u001b[90m━━━━━━━━━━━━━━━━━━━━━\u001b[0m \u001b[32m276.5/611.8 kB\u001b[0m \u001b[31m8.1 MB/s\u001b[0m eta \u001b[36m0:00:01\u001b[0m\r\u001b[2K     \u001b[90m━━━━━━━━━━━━━━━━━━━━━━━━━━━━━━━━━━━━━━━━\u001b[0m \u001b[32m611.8/611.8 kB\u001b[0m \u001b[31m11.8 MB/s\u001b[0m eta \u001b[36m0:00:00\u001b[0m\n",
            "\u001b[?25hRequirement already satisfied: packaging in /usr/local/lib/python3.10/dist-packages (from tensorflow_addons) (23.2)\n",
            "Collecting typeguard<3.0.0,>=2.7 (from tensorflow_addons)\n",
            "  Downloading typeguard-2.13.3-py3-none-any.whl (17 kB)\n",
            "Installing collected packages: typeguard, tensorflow_addons\n",
            "Successfully installed tensorflow_addons-0.23.0 typeguard-2.13.3\n"
          ]
        }
      ]
    },
    {
      "cell_type": "code",
      "execution_count": 5,
      "metadata": {
        "id": "O90KzDOmp8zT",
        "colab": {
          "base_uri": "https://localhost:8080/"
        },
        "outputId": "0ca7b6e5-b29d-4c3b-916a-710b9ff27a7b"
      },
      "outputs": [
        {
          "output_type": "stream",
          "name": "stderr",
          "text": [
            "/usr/local/lib/python3.10/dist-packages/tensorflow_addons/utils/tfa_eol_msg.py:23: UserWarning: \n",
            "\n",
            "TensorFlow Addons (TFA) has ended development and introduction of new features.\n",
            "TFA has entered a minimal maintenance and release mode until a planned end of life in May 2024.\n",
            "Please modify downstream libraries to take dependencies from other repositories in our TensorFlow community (e.g. Keras, Keras-CV, and Keras-NLP). \n",
            "\n",
            "For more information see: https://github.com/tensorflow/addons/issues/2807 \n",
            "\n",
            "  warnings.warn(\n"
          ]
        }
      ],
      "source": [
        "import random\n",
        "import numpy as np\n",
        "from  drive.MyDrive.blockchain.classHospital import Hospital\n",
        "import os\n",
        "import cv2\n",
        "import pickle\n",
        "import pandas as pd\n",
        "import gc\n",
        "from sklearn.model_selection import train_test_split\n",
        "import tensorflow as tf\n",
        "from tensorflow.keras.constraints import MaxNorm\n",
        "from tensorflow.keras.initializers import GlorotUniform, Zeros\n",
        "from tensorflow.keras.layers import Input, Conv2D, MaxPooling2D, Flatten, Dense, Dropout, Rescaling\n",
        "from sklearn.metrics import classification_report, f1_score, accuracy_score\n",
        "import matplotlib.pyplot as plt\n",
        "from tensorflow.keras.models import load_model\n",
        "from tensorflow.keras.callbacks import ModelCheckpoint\n",
        "from sklearn.metrics import f1_score\n",
        "import tensorflow_addons as tfa"
      ]
    },
    {
      "cell_type": "markdown",
      "metadata": {
        "id": "9V4HwQ5Jq1cA"
      },
      "source": [
        "# Constants"
      ]
    },
    {
      "cell_type": "code",
      "execution_count": 6,
      "metadata": {
        "id": "wUQbZsrUq8F2"
      },
      "outputs": [],
      "source": [
        "BRAIN_TUMOR = \"Brain_Tumor\"\n",
        "ALZHEIMER = \"Alzheimer\"\n",
        "\n",
        "\n",
        "RANDOM_SEED = 42\n",
        "LABELS_ALZ = [\"NonDemented\", \"VeryMildDemented\", \"MildDemented\", \"ModerateDemented\"]\n",
        "LABELS_TUMOR = [\"glioma\", \"meningioma\", \"notumor\", \"pituitary\"]\n",
        "NUM_CLASSES = 4\n",
        "COMPILE_INFO = {\n",
        "    \"optimizer\": \"Adam\",\n",
        "    \"metrics\": [\"accuracy\"],\n",
        "}\n",
        "WIDTH = 176\n",
        "HEIGHT = 208\n",
        "DEPTH = 1\n",
        "BATCH_SIZE = 32\n",
        "DATASET_TRAIN_PATH_ALZ = \"/content/Dataset/train\"\n",
        "DATASET_TEST_PATH_ALZ = \"/content/Dataset/test\"\n",
        "DATASET_TRAIN_PATH_TUM = \"/content/Brain_Tumor/train\"\n",
        "DATASET_TEST_PATH_TUM = \"/content/Brain_Tumor/test\"\n",
        "\n",
        "train_path = DATASET_TRAIN_PATH_TUM\n",
        "test_path = DATASET_TEST_PATH_TUM"
      ]
    },
    {
      "cell_type": "code",
      "execution_count": 7,
      "metadata": {
        "id": "XL6kDqNigg3j"
      },
      "outputs": [],
      "source": [
        "def set_riproducibility():\n",
        "  os.environ[\"PYTHONHASHSEED\"] = str(RANDOM_SEED)\n",
        "  random.seed(RANDOM_SEED)\n",
        "  np.random.seed(RANDOM_SEED)\n",
        "  tf.random.set_seed(RANDOM_SEED)\n",
        "  os.environ[\"TF_DETERMINISTIC_OPS\"] = \"1\"\n",
        "  os.environ[\"TF_CUDNN_DETERMINISTIC\"] = \"1\"\n",
        "  tf.keras.utils.set_random_seed(RANDOM_SEED)\n",
        "set_riproducibility()"
      ]
    },
    {
      "cell_type": "markdown",
      "metadata": {
        "id": "k5V2Cn8trP7j"
      },
      "source": [
        "# Setup"
      ]
    },
    {
      "cell_type": "code",
      "execution_count": 8,
      "metadata": {
        "id": "Vkuqh33ashoM"
      },
      "outputs": [],
      "source": [
        "def preprocess_data(image, label):\n",
        "    label = tf.one_hot(label, depth=NUM_CLASSES)\n",
        "    return image, label\n",
        "\n",
        "def count_classes(dataset):\n",
        "    class_names = LABELS_ALZ if train_path == DATASET_TRAIN_PATH_ALZ else LABELS_TUMOR\n",
        "    class_counts = [0] * len(class_names)\n",
        "    for _, labels in dataset:\n",
        "        class_counts += np.sum(labels.numpy(), axis=0)\n",
        "    return class_counts\n",
        "\n",
        "def create_dataset(train_path, test_path, dataset_name):\n",
        "\n",
        "    labels = LABELS_ALZ if train_path == DATASET_TRAIN_PATH_ALZ else LABELS_TUMOR\n",
        "\n",
        "    test_dataset = tf.keras.preprocessing.image_dataset_from_directory(\n",
        "      test_path,\n",
        "      seed=RANDOM_SEED,\n",
        "      image_size=(WIDTH,HEIGHT),\n",
        "      batch_size=BATCH_SIZE,\n",
        "      class_names = labels,\n",
        "      color_mode='grayscale',\n",
        "      shuffle = False\n",
        "      )\n",
        "\n",
        "    train_dataset = tf.keras.preprocessing.image_dataset_from_directory(\n",
        "      train_path,\n",
        "      seed=RANDOM_SEED,\n",
        "      image_size=(WIDTH,HEIGHT),\n",
        "      batch_size= BATCH_SIZE, # it is needed for the split\n",
        "      class_names = labels,\n",
        "      color_mode='grayscale',\n",
        "      shuffle = True\n",
        "      )\n",
        "\n",
        "\n",
        "    # one hot encoding\n",
        "\n",
        "    train_dataset = train_dataset.map(preprocess_data)\n",
        "\n",
        "    test_dataset = test_dataset.map(preprocess_data)\n",
        "\n",
        "    return train_dataset, test_dataset"
      ]
    },
    {
      "cell_type": "markdown",
      "source": [
        "## Model"
      ],
      "metadata": {
        "id": "4hfSBXIPNul-"
      }
    },
    {
      "cell_type": "code",
      "source": [
        "class FedAvg(tf.keras.Model):\n",
        "\n",
        "    def __init__(self, num_classes=4, random_seed=42):\n",
        "        super(FedAvg, self).__init__()\n",
        "\n",
        "\n",
        "        # Layers\n",
        "        self.glorot_initializer = GlorotUniform(seed=random_seed)\n",
        "        self.rescale_layer = Rescaling(1.0 / 255)\n",
        "        self.conv1 = Conv2D(\n",
        "            16,\n",
        "            3,\n",
        "            padding=\"same\",\n",
        "            activation=\"relu\",\n",
        "            kernel_initializer=self.glorot_initializer)\n",
        "        self.pool = MaxPooling2D((2, 2))\n",
        "        self.conv2 = Conv2D(32, 3, padding=\"same\", activation=\"relu\", kernel_initializer=self.glorot_initializer)\n",
        "        self.conv3 = Conv2D(\n",
        "            64,\n",
        "            3,\n",
        "            padding=\"same\",\n",
        "            activation=\"relu\",\n",
        "            kernel_initializer=self.glorot_initializer,\n",
        "        )\n",
        "        self.flatten_layer = Flatten()\n",
        "        self.dense1 = Dense(\n",
        "            128,\n",
        "            activation=\"relu\",\n",
        "            kernel_initializer=self.glorot_initializer,\n",
        "            kernel_constraint=MaxNorm(3),\n",
        "        )\n",
        "        self.dropout_layer = Dropout(0.3, seed=random_seed)\n",
        "        self.dense2 = Dense(\n",
        "            num_classes,\n",
        "            activation=\"softmax\",\n",
        "            kernel_initializer=self.glorot_initializer,\n",
        "        )\n",
        "\n",
        "    def call(self, inputs):\n",
        "\n",
        "        x = self.rescale_layer(inputs)\n",
        "        x = self.conv1(x)\n",
        "        x = self.pool(x)\n",
        "        x = self.conv2(x)\n",
        "        x = self.pool(x)\n",
        "        x = self.conv3(x)\n",
        "        x = self.pool(x)\n",
        "\n",
        "        x = self.flatten_layer(x)\n",
        "        x = self.dense1(x)\n",
        "        x = self.dropout_layer(x)\n",
        "        x = self.dense2(x)\n",
        "\n",
        "        return x\n",
        "\n",
        "    \"\"\"\n",
        "    @tf.function\n",
        "    def train_step(self, inputs, labels):\n",
        "        with tf.GradientTape() as tape:\n",
        "            predictions = self(inputs, training=True)\n",
        "            loss = tf.keras.losses.categorical_crossentropy(labels, predictions)\n",
        "\n",
        "        gradients = tape.gradient(loss, self.trainable_variables)\n",
        "        self.optimizer.apply_gradients(zip(gradients, self.trainable_variables))\n",
        "        return loss\n",
        "\n",
        "    def val_step(self, x_val, y_val):\n",
        "        predictions = self(x_val, training=False)  # Predict using the model\n",
        "\n",
        "        # Calculate loss (you can use a different metric if needed)\n",
        "        loss = tf.keras.losses.categorical_crossentropy(y_val, predictions)\n",
        "\n",
        "        return loss\n",
        "    \"\"\"\n",
        "\n"
      ],
      "metadata": {
        "id": "3sLr4HWwNs3M"
      },
      "execution_count": 9,
      "outputs": []
    },
    {
      "cell_type": "markdown",
      "source": [
        "# Brain Tumor"
      ],
      "metadata": {
        "id": "Sj0nStyxNn2_"
      }
    },
    {
      "cell_type": "markdown",
      "source": [
        "## Dataset Creation and exploration"
      ],
      "metadata": {
        "id": "q52KoxchNQet"
      }
    },
    {
      "cell_type": "code",
      "source": [
        "train_dataset, test_dataset = create_dataset(train_path, test_path,BRAIN_TUMOR)"
      ],
      "metadata": {
        "colab": {
          "base_uri": "https://localhost:8080/"
        },
        "id": "QUPROz5e9jo9",
        "outputId": "5389b2fe-58ab-4dc0-836c-37a77e1d1ea0"
      },
      "execution_count": 10,
      "outputs": [
        {
          "output_type": "stream",
          "name": "stdout",
          "text": [
            "Found 1281 files belonging to 4 classes.\n",
            "Found 5505 files belonging to 4 classes.\n"
          ]
        }
      ]
    },
    {
      "cell_type": "code",
      "source": [
        "train_count = count_classes(train_dataset)\n",
        "\n",
        "test_count = count_classes(test_dataset)\n",
        "\n",
        "fig, axes = plt.subplots(1, 2, figsize=(21, 5))\n",
        "\n",
        "class_names = LABELS_ALZ if train_path == DATASET_TRAIN_PATH_ALZ else LABELS_TUMOR\n",
        "\n",
        "# Plot for training set\n",
        "ax1 = axes[0]\n",
        "ax1.bar(class_names, train_count, edgecolor=\"black\", color=\"skyblue\", width=0.7)\n",
        "ax1.set_title(\"Train Distribution\")\n",
        "\n",
        "# Plot for test set\n",
        "ax3 = axes[1]\n",
        "ax3.bar(class_names, test_count, edgecolor=\"black\", color=\"lightcoral\", width=0.7)\n",
        "ax3.set_title(\"TestDistribution\")\n",
        "\n",
        "plt.show()\n"
      ],
      "metadata": {
        "id": "XBfAzddRLLl7",
        "colab": {
          "base_uri": "https://localhost:8080/",
          "height": 394
        },
        "outputId": "ed56770b-77a2-4543-cc2b-a9f90e884fc4"
      },
      "execution_count": 11,
      "outputs": [
        {
          "output_type": "display_data",
          "data": {
            "text/plain": [
              "<Figure size 2100x500 with 2 Axes>"
            ],
            "image/png": "[encoded data removed]"
          },
          "metadata": {}
        }
      ]
    },
    {
      "cell_type": "markdown",
      "metadata": {
        "id": "cF1tgvtsumDO"
      },
      "source": [
        "## Training"
      ]
    },
    {
      "cell_type": "code",
      "source": [
        "def history_plot(history):\n",
        "  plt.plot(history.history['loss'], label='Train Loss')\n",
        "  plt.plot(history.history['val_loss'], label='Validation Loss')\n",
        "  plt.title('Training and Validation Loss')\n",
        "  plt.xlabel('Epoch')\n",
        "  plt.ylabel('Loss')\n",
        "  plt.legend()\n",
        "  plt.show()"
      ],
      "metadata": {
        "id": "Q71pJzwnbytJ"
      },
      "execution_count": 12,
      "outputs": []
    },
    {
      "cell_type": "code",
      "source": [
        "def predictions(dataset, model):\n",
        "  y_true = []\n",
        "  y_pred = []\n",
        "\n",
        "  for images, labels in dataset:\n",
        "      y_true.extend(tf.argmax(labels, axis=1).numpy())\n",
        "      predictions = model(images, training=False)\n",
        "\n",
        "      y_pred.extend(tf.argmax(predictions, axis=1).numpy())\n",
        "  return y_true, y_pred"
      ],
      "metadata": {
        "id": "l7Ad3gPdXV-1"
      },
      "execution_count": 13,
      "outputs": []
    },
    {
      "cell_type": "code",
      "source": [
        "# Define the ModelCheckpoint callback\n",
        "checkpoint_filepath = '/content/drive/MyDrive/blockchain/best_model_tum_test'\n",
        "model_checkpoint = ModelCheckpoint(\n",
        "    checkpoint_filepath,\n",
        "    save_best_only=True,\n",
        "    monitor='val_f1_score',  # Monitor the validation macro-F1 score\n",
        "    mode='max',\n",
        "    verbose=0,\n",
        "    save_weights_only=False  # Save the entire model\n",
        ")\n",
        "\n",
        "# Create and compile the model\n",
        "model = FedAvg(num_classes=4)\n",
        "model.compile(optimizer='adam', loss='categorical_crossentropy', metrics=[tfa.metrics.F1Score(num_classes=4,average='macro')])\n",
        "\n",
        "# Train the model\n",
        "epochs = 80\n",
        "history = model.fit(train_dataset, epochs=epochs, validation_data=test_dataset, callbacks=[model_checkpoint])\n"
      ],
      "metadata": {
        "colab": {
          "base_uri": "https://localhost:8080/"
        },
        "id": "t6OhPvL5-stC",
        "outputId": "dd5de17a-1f84-4cb4-e29b-cd6b0fb2f6c9"
      },
      "execution_count": 14,
      "outputs": [
        {
          "output_type": "stream",
          "name": "stdout",
          "text": [
            "Epoch 1/80\n",
            "173/173 [==============================] - 14s 42ms/step - loss: 0.6307 - f1_score: 0.7368 - val_loss: 0.7171 - val_f1_score: 0.6883\n",
            "Epoch 2/80\n",
            "173/173 [==============================] - 7s 42ms/step - loss: 0.3702 - f1_score: 0.8555 - val_loss: 0.3920 - val_f1_score: 0.8314\n",
            "Epoch 3/80\n",
            "173/173 [==============================] - 7s 38ms/step - loss: 0.2659 - f1_score: 0.9007 - val_loss: 0.2680 - val_f1_score: 0.8851\n",
            "Epoch 4/80\n",
            "173/173 [==============================] - 7s 38ms/step - loss: 0.2338 - f1_score: 0.9105 - val_loss: 0.2497 - val_f1_score: 0.8906\n",
            "Epoch 5/80\n",
            "173/173 [==============================] - 8s 47ms/step - loss: 0.1728 - f1_score: 0.9340 - val_loss: 0.2070 - val_f1_score: 0.9168\n",
            "Epoch 6/80\n",
            "173/173 [==============================] - 6s 34ms/step - loss: 0.1579 - f1_score: 0.9435 - val_loss: 0.2027 - val_f1_score: 0.9193\n",
            "Epoch 7/80\n",
            "173/173 [==============================] - 8s 47ms/step - loss: 0.1408 - f1_score: 0.9517 - val_loss: 0.1862 - val_f1_score: 0.9280\n",
            "Epoch 8/80\n",
            "173/173 [==============================] - 7s 38ms/step - loss: 0.1128 - f1_score: 0.9593 - val_loss: 0.1539 - val_f1_score: 0.9393\n",
            "Epoch 9/80\n",
            "173/173 [==============================] - 6s 37ms/step - loss: 0.0957 - f1_score: 0.9646 - val_loss: 0.1757 - val_f1_score: 0.9315\n",
            "Epoch 10/80\n",
            "173/173 [==============================] - 6s 34ms/step - loss: 0.0809 - f1_score: 0.9719 - val_loss: 0.1341 - val_f1_score: 0.9495\n",
            "Epoch 11/80\n",
            "173/173 [==============================] - 6s 34ms/step - loss: 0.0658 - f1_score: 0.9782 - val_loss: 0.1586 - val_f1_score: 0.9451\n",
            "Epoch 12/80\n",
            "173/173 [==============================] - 7s 42ms/step - loss: 0.0692 - f1_score: 0.9755 - val_loss: 0.1227 - val_f1_score: 0.9560\n",
            "Epoch 13/80\n",
            "173/173 [==============================] - 5s 28ms/step - loss: 0.0505 - f1_score: 0.9819 - val_loss: 0.1385 - val_f1_score: 0.9486\n",
            "Epoch 14/80\n",
            "173/173 [==============================] - 8s 44ms/step - loss: 0.0498 - f1_score: 0.9821 - val_loss: 0.1008 - val_f1_score: 0.9630\n",
            "Epoch 15/80\n",
            "173/173 [==============================] - 5s 28ms/step - loss: 0.0491 - f1_score: 0.9840 - val_loss: 0.1192 - val_f1_score: 0.9609\n",
            "Epoch 16/80\n",
            "173/173 [==============================] - 7s 39ms/step - loss: 0.0498 - f1_score: 0.9832 - val_loss: 0.2579 - val_f1_score: 0.9330\n",
            "Epoch 17/80\n",
            "173/173 [==============================] - 6s 34ms/step - loss: 0.0587 - f1_score: 0.9809 - val_loss: 0.1133 - val_f1_score: 0.9649\n",
            "Epoch 18/80\n",
            "173/173 [==============================] - 6s 32ms/step - loss: 0.0489 - f1_score: 0.9842 - val_loss: 0.1695 - val_f1_score: 0.9458\n",
            "Epoch 19/80\n",
            "173/173 [==============================] - 5s 28ms/step - loss: 0.0573 - f1_score: 0.9814 - val_loss: 0.1214 - val_f1_score: 0.9631\n",
            "Epoch 20/80\n",
            "173/173 [==============================] - 6s 36ms/step - loss: 0.0428 - f1_score: 0.9872 - val_loss: 0.1174 - val_f1_score: 0.9630\n",
            "Epoch 21/80\n",
            "173/173 [==============================] - 6s 35ms/step - loss: 0.0348 - f1_score: 0.9883 - val_loss: 0.1241 - val_f1_score: 0.9722\n",
            "Epoch 22/80\n",
            "173/173 [==============================] - 5s 28ms/step - loss: 0.0271 - f1_score: 0.9906 - val_loss: 0.1140 - val_f1_score: 0.9649\n",
            "Epoch 23/80\n",
            "173/173 [==============================] - 6s 36ms/step - loss: 0.0233 - f1_score: 0.9926 - val_loss: 0.1074 - val_f1_score: 0.9645\n",
            "Epoch 24/80\n",
            "173/173 [==============================] - 5s 28ms/step - loss: 0.0231 - f1_score: 0.9926 - val_loss: 0.0999 - val_f1_score: 0.9689\n",
            "Epoch 25/80\n",
            "173/173 [==============================] - 5s 27ms/step - loss: 0.0239 - f1_score: 0.9936 - val_loss: 0.1464 - val_f1_score: 0.9620\n",
            "Epoch 26/80\n",
            "173/173 [==============================] - 6s 36ms/step - loss: 0.0233 - f1_score: 0.9921 - val_loss: 0.1813 - val_f1_score: 0.9536\n",
            "Epoch 27/80\n",
            "173/173 [==============================] - 6s 32ms/step - loss: 0.0430 - f1_score: 0.9849 - val_loss: 0.1589 - val_f1_score: 0.9497\n",
            "Epoch 28/80\n",
            "173/173 [==============================] - 5s 28ms/step - loss: 0.0368 - f1_score: 0.9897 - val_loss: 0.1252 - val_f1_score: 0.9656\n",
            "Epoch 29/80\n",
            "173/173 [==============================] - 7s 39ms/step - loss: 0.0347 - f1_score: 0.9883 - val_loss: 0.1294 - val_f1_score: 0.9663\n",
            "Epoch 30/80\n",
            "173/173 [==============================] - 5s 28ms/step - loss: 0.0340 - f1_score: 0.9894 - val_loss: 0.1577 - val_f1_score: 0.9594\n",
            "Epoch 31/80\n",
            "173/173 [==============================] - 5s 31ms/step - loss: 0.0363 - f1_score: 0.9883 - val_loss: 0.1846 - val_f1_score: 0.9428\n",
            "Epoch 32/80\n",
            "173/173 [==============================] - 6s 33ms/step - loss: 0.0263 - f1_score: 0.9910 - val_loss: 0.1838 - val_f1_score: 0.9484\n",
            "Epoch 33/80\n",
            "173/173 [==============================] - 5s 28ms/step - loss: 0.0298 - f1_score: 0.9891 - val_loss: 0.1862 - val_f1_score: 0.9532\n",
            "Epoch 34/80\n",
            "173/173 [==============================] - 6s 36ms/step - loss: 0.0219 - f1_score: 0.9941 - val_loss: 0.1245 - val_f1_score: 0.9646\n",
            "Epoch 35/80\n",
            "173/173 [==============================] - 5s 28ms/step - loss: 0.0221 - f1_score: 0.9943 - val_loss: 0.1549 - val_f1_score: 0.9575\n",
            "Epoch 36/80\n",
            "173/173 [==============================] - 7s 37ms/step - loss: 0.0404 - f1_score: 0.9881 - val_loss: 0.1871 - val_f1_score: 0.9550\n",
            "Epoch 37/80\n",
            "173/173 [==============================] - 5s 27ms/step - loss: 0.0270 - f1_score: 0.9917 - val_loss: 0.2501 - val_f1_score: 0.9366\n",
            "Epoch 38/80\n",
            "173/173 [==============================] - 6s 33ms/step - loss: 0.0289 - f1_score: 0.9917 - val_loss: 0.1243 - val_f1_score: 0.9655\n",
            "Epoch 39/80\n",
            "173/173 [==============================] - 6s 31ms/step - loss: 0.0292 - f1_score: 0.9910 - val_loss: 0.2095 - val_f1_score: 0.9531\n",
            "Epoch 40/80\n",
            "173/173 [==============================] - 5s 27ms/step - loss: 0.0225 - f1_score: 0.9916 - val_loss: 0.1613 - val_f1_score: 0.9527\n",
            "Epoch 41/80\n",
            "173/173 [==============================] - 7s 37ms/step - loss: 0.0272 - f1_score: 0.9914 - val_loss: 0.1461 - val_f1_score: 0.9548\n",
            "Epoch 42/80\n",
            "173/173 [==============================] - 5s 28ms/step - loss: 0.0217 - f1_score: 0.9932 - val_loss: 0.1274 - val_f1_score: 0.9687\n",
            "Epoch 43/80\n",
            "173/173 [==============================] - 6s 36ms/step - loss: 0.0107 - f1_score: 0.9959 - val_loss: 0.1765 - val_f1_score: 0.9554\n",
            "Epoch 44/80\n",
            "173/173 [==============================] - 6s 37ms/step - loss: 0.0137 - f1_score: 0.9958 - val_loss: 0.1285 - val_f1_score: 0.9662\n",
            "Epoch 45/80\n",
            "173/173 [==============================] - 7s 40ms/step - loss: 0.0089 - f1_score: 0.9963 - val_loss: 0.1557 - val_f1_score: 0.9560\n",
            "Epoch 46/80\n",
            "173/173 [==============================] - 5s 28ms/step - loss: 0.0157 - f1_score: 0.9943 - val_loss: 0.1444 - val_f1_score: 0.9689\n",
            "Epoch 47/80\n",
            "173/173 [==============================] - 6s 36ms/step - loss: 0.0034 - f1_score: 0.9994 - val_loss: 0.1509 - val_f1_score: 0.9694\n",
            "Epoch 48/80\n",
            "173/173 [==============================] - 5s 27ms/step - loss: 0.0226 - f1_score: 0.9942 - val_loss: 0.1324 - val_f1_score: 0.9586\n",
            "Epoch 49/80\n",
            "173/173 [==============================] - 6s 32ms/step - loss: 0.0360 - f1_score: 0.9874 - val_loss: 0.1981 - val_f1_score: 0.9458\n",
            "Epoch 50/80\n",
            "173/173 [==============================] - 6s 32ms/step - loss: 0.0499 - f1_score: 0.9854 - val_loss: 0.1578 - val_f1_score: 0.9547\n",
            "Epoch 51/80\n",
            "173/173 [==============================] - 7s 39ms/step - loss: 0.0193 - f1_score: 0.9938 - val_loss: 0.1316 - val_f1_score: 0.9610\n",
            "Epoch 52/80\n",
            "173/173 [==============================] - 5s 28ms/step - loss: 0.0159 - f1_score: 0.9951 - val_loss: 0.1152 - val_f1_score: 0.9677\n",
            "Epoch 53/80\n",
            "173/173 [==============================] - 6s 32ms/step - loss: 0.0110 - f1_score: 0.9963 - val_loss: 0.1193 - val_f1_score: 0.9646\n",
            "Epoch 54/80\n",
            "173/173 [==============================] - 5s 28ms/step - loss: 0.0243 - f1_score: 0.9916 - val_loss: 0.1358 - val_f1_score: 0.9556\n",
            "Epoch 55/80\n",
            "173/173 [==============================] - 6s 36ms/step - loss: 0.0134 - f1_score: 0.9948 - val_loss: 0.1895 - val_f1_score: 0.9602\n",
            "Epoch 56/80\n",
            "173/173 [==============================] - 5s 28ms/step - loss: 0.0120 - f1_score: 0.9972 - val_loss: 0.1692 - val_f1_score: 0.9589\n",
            "Epoch 57/80\n",
            "173/173 [==============================] - 6s 32ms/step - loss: 0.0174 - f1_score: 0.9962 - val_loss: 0.1626 - val_f1_score: 0.9598\n",
            "Epoch 58/80\n",
            "173/173 [==============================] - 5s 28ms/step - loss: 0.0119 - f1_score: 0.9967 - val_loss: 0.1492 - val_f1_score: 0.9602\n",
            "Epoch 59/80\n",
            "173/173 [==============================] - 7s 38ms/step - loss: 0.0093 - f1_score: 0.9974 - val_loss: 0.1798 - val_f1_score: 0.9571\n",
            "Epoch 60/80\n",
            "173/173 [==============================] - 5s 28ms/step - loss: 0.0232 - f1_score: 0.9916 - val_loss: 0.2067 - val_f1_score: 0.9509\n",
            "Epoch 61/80\n",
            "173/173 [==============================] - 6s 32ms/step - loss: 0.0280 - f1_score: 0.9905 - val_loss: 0.1780 - val_f1_score: 0.9591\n",
            "Epoch 62/80\n",
            "173/173 [==============================] - 5s 28ms/step - loss: 0.0366 - f1_score: 0.9868 - val_loss: 0.2006 - val_f1_score: 0.9480\n",
            "Epoch 63/80\n",
            "173/173 [==============================] - 7s 37ms/step - loss: 0.0277 - f1_score: 0.9914 - val_loss: 0.1637 - val_f1_score: 0.9611\n",
            "Epoch 64/80\n",
            "173/173 [==============================] - 5s 28ms/step - loss: 0.0245 - f1_score: 0.9922 - val_loss: 0.2306 - val_f1_score: 0.9569\n",
            "Epoch 65/80\n",
            "173/173 [==============================] - 6s 37ms/step - loss: 0.0073 - f1_score: 0.9984 - val_loss: 0.1488 - val_f1_score: 0.9670\n",
            "Epoch 66/80\n",
            "173/173 [==============================] - 5s 28ms/step - loss: 0.0105 - f1_score: 0.9972 - val_loss: 0.1373 - val_f1_score: 0.9687\n",
            "Epoch 67/80\n",
            "173/173 [==============================] - 7s 40ms/step - loss: 0.0017 - f1_score: 1.0000 - val_loss: 0.1162 - val_f1_score: 0.9737\n",
            "Epoch 68/80\n",
            "173/173 [==============================] - 5s 28ms/step - loss: 0.0034 - f1_score: 0.9985 - val_loss: 0.1780 - val_f1_score: 0.9654\n",
            "Epoch 69/80\n",
            "173/173 [==============================] - 5s 28ms/step - loss: 0.0041 - f1_score: 0.9985 - val_loss: 0.1573 - val_f1_score: 0.9689\n",
            "Epoch 70/80\n",
            "173/173 [==============================] - 7s 38ms/step - loss: 0.0095 - f1_score: 0.9967 - val_loss: 0.1845 - val_f1_score: 0.9655\n",
            "Epoch 71/80\n",
            "173/173 [==============================] - 5s 28ms/step - loss: 0.0081 - f1_score: 0.9974 - val_loss: 0.2470 - val_f1_score: 0.9547\n",
            "Epoch 72/80\n",
            "173/173 [==============================] - 6s 33ms/step - loss: 0.0256 - f1_score: 0.9917 - val_loss: 0.2127 - val_f1_score: 0.9540\n",
            "Epoch 73/80\n",
            "173/173 [==============================] - 5s 28ms/step - loss: 0.0183 - f1_score: 0.9932 - val_loss: 0.1933 - val_f1_score: 0.9609\n",
            "Epoch 74/80\n",
            "173/173 [==============================] - 7s 39ms/step - loss: 0.0260 - f1_score: 0.9923 - val_loss: 0.1172 - val_f1_score: 0.9626\n",
            "Epoch 75/80\n",
            "173/173 [==============================] - 5s 27ms/step - loss: 0.0191 - f1_score: 0.9936 - val_loss: 0.1641 - val_f1_score: 0.9600\n",
            "Epoch 76/80\n",
            "173/173 [==============================] - 6s 32ms/step - loss: 0.0227 - f1_score: 0.9912 - val_loss: 0.2074 - val_f1_score: 0.9493\n",
            "Epoch 77/80\n",
            "173/173 [==============================] - 5s 28ms/step - loss: 0.0383 - f1_score: 0.9893 - val_loss: 0.1908 - val_f1_score: 0.9526\n",
            "Epoch 78/80\n",
            "173/173 [==============================] - 8s 46ms/step - loss: 0.0301 - f1_score: 0.9882 - val_loss: 0.1561 - val_f1_score: 0.9649\n",
            "Epoch 79/80\n",
            "173/173 [==============================] - 5s 28ms/step - loss: 0.0133 - f1_score: 0.9958 - val_loss: 0.1657 - val_f1_score: 0.9599\n",
            "Epoch 80/80\n",
            "173/173 [==============================] - 6s 35ms/step - loss: 0.0065 - f1_score: 0.9978 - val_loss: 0.1520 - val_f1_score: 0.9578\n"
          ]
        }
      ]
    },
    {
      "cell_type": "code",
      "source": [
        "history_plot(history)"
      ],
      "metadata": {
        "id": "i5WESdCDcERg",
        "colab": {
          "base_uri": "https://localhost:8080/",
          "height": 472
        },
        "outputId": "101dabd3-567c-4257-9012-6518b389dd7e"
      },
      "execution_count": 15,
      "outputs": [
        {
          "output_type": "display_data",
          "data": {
            "text/plain": [
              "<Figure size 640x480 with 1 Axes>"
            ],
            "image/png": "[encoded data removed]"
          },
          "metadata": {}
        }
      ]
    },
    {
      "cell_type": "code",
      "source": [
        "print(f\"The best epoch is: {model_checkpoint.best:.3f}\")\n",
        "\n",
        "# Load the model with the best weights\n",
        "best_model_path = '/content/drive/MyDrive/blockchain/best_model_tum_test'\n",
        "best_model = load_model(best_model_path)"
      ],
      "metadata": {
        "colab": {
          "base_uri": "https://localhost:8080/"
        },
        "id": "JrsmkVuRbOgm",
        "outputId": "cf5f5eaf-c8fb-411c-c955-c267ef972a13"
      },
      "execution_count": 16,
      "outputs": [
        {
          "output_type": "stream",
          "name": "stdout",
          "text": [
            "The best epoch is: 0.974\n"
          ]
        }
      ]
    },
    {
      "cell_type": "code",
      "source": [
        "y_true, y_pred = predictions(test_dataset, best_model)\n",
        "# Generate and print the classification report\n",
        "class_names = LABELS_ALZ if train_path == DATASET_TRAIN_PATH_ALZ else LABELS_TUMOR\n",
        "\n",
        "print(\"\\t\\tClassification report:\\n\")\n",
        "print(classification_report(y_true, y_pred,target_names=class_names))"
      ],
      "metadata": {
        "colab": {
          "base_uri": "https://localhost:8080/"
        },
        "id": "57aT2r6v-eZF",
        "outputId": "255fad1b-cf88-41cf-b55f-21242cd3a03e"
      },
      "execution_count": 17,
      "outputs": [
        {
          "output_type": "stream",
          "name": "stdout",
          "text": [
            "\t\tClassification report:\n",
            "\n",
            "              precision    recall  f1-score   support\n",
            "\n",
            "      glioma       0.98      0.95      0.96       299\n",
            "  meningioma       0.94      0.96      0.95       301\n",
            "     notumor       0.99      1.00      0.99       381\n",
            "   pituitary       0.99      0.98      0.98       300\n",
            "\n",
            "    accuracy                           0.98      1281\n",
            "   macro avg       0.97      0.97      0.97      1281\n",
            "weighted avg       0.98      0.98      0.98      1281\n",
            "\n"
          ]
        }
      ]
    },
    {
      "cell_type": "markdown",
      "source": [
        "# Alzheimer"
      ],
      "metadata": {
        "id": "qGtgJGDkDeVH"
      }
    },
    {
      "cell_type": "code",
      "source": [
        "train_path = DATASET_TRAIN_PATH_ALZ\n",
        "test_path = DATASET_TEST_PATH_ALZ\n",
        "set_riproducibility()"
      ],
      "metadata": {
        "id": "sk-EB1H7DibR"
      },
      "execution_count": 18,
      "outputs": []
    },
    {
      "cell_type": "code",
      "source": [
        "train_dataset, test_dataset = create_dataset(train_path, test_path,ALZHEIMER)"
      ],
      "metadata": {
        "id": "RpOBFJQGDhf8",
        "colab": {
          "base_uri": "https://localhost:8080/"
        },
        "outputId": "d721835a-b622-4183-8eec-6b427dc4c4f3"
      },
      "execution_count": 19,
      "outputs": [
        {
          "output_type": "stream",
          "name": "stdout",
          "text": [
            "Found 1025 files belonging to 4 classes.\n",
            "Found 4096 files belonging to 4 classes.\n"
          ]
        }
      ]
    },
    {
      "cell_type": "code",
      "source": [
        "train_count = count_classes(train_dataset)\n",
        "test_count = count_classes(test_dataset)\n",
        "\n",
        "fig, axes = plt.subplots(1, 2, figsize=(21, 5))\n",
        "\n",
        "class_names = LABELS_ALZ if train_path == DATASET_TRAIN_PATH_ALZ else LABELS_TUMOR\n",
        "\n",
        "# Plot for training set\n",
        "ax1 = axes[0]\n",
        "ax1.bar(class_names, train_count, edgecolor=\"black\", color=\"skyblue\", width=0.7)\n",
        "ax1.set_title(\"Train Distribution\")\n",
        "\n",
        "# Plot for test set\n",
        "ax3 = axes[1]\n",
        "ax3.bar(class_names, test_count, edgecolor=\"black\", color=\"lightcoral\", width=0.7)\n",
        "ax3.set_title(\"TestDistribution\")\n",
        "\n",
        "plt.show()\n"
      ],
      "metadata": {
        "colab": {
          "base_uri": "https://localhost:8080/",
          "height": 394
        },
        "id": "UDAuNq_9DwiR",
        "outputId": "0fbc96fc-2f3f-4010-cc2c-e0ca6cec849c"
      },
      "execution_count": 20,
      "outputs": [
        {
          "output_type": "display_data",
          "data": {
            "text/plain": [
              "<Figure size 2100x500 with 2 Axes>"
            ],
            "image/png": "[encoded data removed]"
          },
          "metadata": {}
        }
      ]
    },
    {
      "cell_type": "markdown",
      "source": [
        "## Training"
      ],
      "metadata": {
        "id": "3VjJR77OD6KJ"
      }
    },
    {
      "cell_type": "code",
      "source": [
        "checkpoint_filepath = '/content/drive/MyDrive/blockchain/best_model_alz_test'\n",
        "model_checkpoint = ModelCheckpoint(\n",
        "    checkpoint_filepath,\n",
        "    save_best_only=True,\n",
        "    monitor='val_f1_score',  # Monitor the validation macro-F1 score\n",
        "    mode='max',\n",
        "    verbose=0,\n",
        "    save_weights_only=False  # Save the entire model\n",
        ")\n",
        "\n",
        "# Create and compile the model\n",
        "model = FedAvg(num_classes=4)\n",
        "model.compile(optimizer='adam', loss='categorical_crossentropy', metrics=[tfa.metrics.F1Score(num_classes=4,average='macro')])\n",
        "# Train the model\n",
        "epochs = 80\n",
        "history = model.fit(train_dataset, epochs=epochs, validation_data=test_dataset, callbacks=[model_checkpoint])"
      ],
      "metadata": {
        "colab": {
          "base_uri": "https://localhost:8080/"
        },
        "id": "bjI-0TAdD5Xs",
        "outputId": "f5e3361f-b694-4da8-d2c8-85ec6b382fb1"
      },
      "execution_count": 21,
      "outputs": [
        {
          "output_type": "stream",
          "name": "stdout",
          "text": [
            "Epoch 1/80\n",
            "128/128 [==============================] - 9s 53ms/step - loss: 1.0307 - f1_score: 0.2537 - val_loss: 0.9472 - val_f1_score: 0.3162\n",
            "Epoch 2/80\n",
            "128/128 [==============================] - 5s 39ms/step - loss: 0.8570 - f1_score: 0.3878 - val_loss: 0.7492 - val_f1_score: 0.4079\n",
            "Epoch 3/80\n",
            "128/128 [==============================] - 5s 36ms/step - loss: 0.6405 - f1_score: 0.5251 - val_loss: 0.5287 - val_f1_score: 0.5869\n",
            "Epoch 4/80\n",
            "128/128 [==============================] - 6s 49ms/step - loss: 0.4724 - f1_score: 0.6352 - val_loss: 0.3416 - val_f1_score: 0.7125\n",
            "Epoch 5/80\n",
            "128/128 [==============================] - 5s 37ms/step - loss: 0.2860 - f1_score: 0.8231 - val_loss: 0.2240 - val_f1_score: 0.9137\n",
            "Epoch 6/80\n",
            "128/128 [==============================] - 4s 28ms/step - loss: 0.2250 - f1_score: 0.8842 - val_loss: 0.2266 - val_f1_score: 0.8555\n",
            "Epoch 7/80\n",
            "128/128 [==============================] - 6s 47ms/step - loss: 0.2081 - f1_score: 0.8714 - val_loss: 0.1288 - val_f1_score: 0.9546\n",
            "Epoch 8/80\n",
            "128/128 [==============================] - 4s 27ms/step - loss: 0.1848 - f1_score: 0.8924 - val_loss: 0.2400 - val_f1_score: 0.9378\n",
            "Epoch 9/80\n",
            "128/128 [==============================] - 5s 38ms/step - loss: 0.1371 - f1_score: 0.9259 - val_loss: 0.1324 - val_f1_score: 0.9611\n",
            "Epoch 10/80\n",
            "128/128 [==============================] - 5s 36ms/step - loss: 0.1450 - f1_score: 0.9193 - val_loss: 0.0968 - val_f1_score: 0.9768\n",
            "Epoch 11/80\n",
            "128/128 [==============================] - 4s 34ms/step - loss: 0.1111 - f1_score: 0.9447 - val_loss: 0.2286 - val_f1_score: 0.8546\n",
            "Epoch 12/80\n",
            "128/128 [==============================] - 4s 29ms/step - loss: 0.1275 - f1_score: 0.9316 - val_loss: 0.1345 - val_f1_score: 0.9215\n",
            "Epoch 13/80\n",
            "128/128 [==============================] - 5s 38ms/step - loss: 0.1207 - f1_score: 0.9537 - val_loss: 0.0877 - val_f1_score: 0.9803\n",
            "Epoch 14/80\n",
            "128/128 [==============================] - 6s 46ms/step - loss: 0.0894 - f1_score: 0.9561 - val_loss: 0.0566 - val_f1_score: 0.9856\n",
            "Epoch 15/80\n",
            "128/128 [==============================] - 4s 28ms/step - loss: 0.0471 - f1_score: 0.9775 - val_loss: 0.0940 - val_f1_score: 0.9827\n",
            "Epoch 16/80\n",
            "128/128 [==============================] - 4s 29ms/step - loss: 0.0846 - f1_score: 0.9605 - val_loss: 0.0816 - val_f1_score: 0.9828\n",
            "Epoch 17/80\n",
            "128/128 [==============================] - 4s 28ms/step - loss: 0.0761 - f1_score: 0.9668 - val_loss: 0.0684 - val_f1_score: 0.9816\n",
            "Epoch 18/80\n",
            "128/128 [==============================] - 3s 26ms/step - loss: 0.0785 - f1_score: 0.9735 - val_loss: 0.0786 - val_f1_score: 0.9781\n",
            "Epoch 19/80\n",
            "128/128 [==============================] - 5s 37ms/step - loss: 0.0561 - f1_score: 0.9726 - val_loss: 0.0773 - val_f1_score: 0.9818\n",
            "Epoch 20/80\n",
            "128/128 [==============================] - 4s 28ms/step - loss: 0.0535 - f1_score: 0.9781 - val_loss: 0.0861 - val_f1_score: 0.9728\n",
            "Epoch 21/80\n",
            "128/128 [==============================] - 3s 27ms/step - loss: 0.0471 - f1_score: 0.9667 - val_loss: 0.0635 - val_f1_score: 0.9792\n",
            "Epoch 22/80\n",
            "128/128 [==============================] - 6s 50ms/step - loss: 0.0497 - f1_score: 0.9753 - val_loss: 0.0519 - val_f1_score: 0.9870\n",
            "Epoch 23/80\n",
            "128/128 [==============================] - 4s 27ms/step - loss: 0.0407 - f1_score: 0.9781 - val_loss: 0.0483 - val_f1_score: 0.9869\n",
            "Epoch 24/80\n",
            "128/128 [==============================] - 4s 29ms/step - loss: 0.0447 - f1_score: 0.9624 - val_loss: 0.0683 - val_f1_score: 0.9834\n",
            "Epoch 25/80\n",
            "128/128 [==============================] - 4s 29ms/step - loss: 0.0412 - f1_score: 0.9776 - val_loss: 0.0755 - val_f1_score: 0.9818\n",
            "Epoch 26/80\n",
            "128/128 [==============================] - 4s 27ms/step - loss: 0.0647 - f1_score: 0.9731 - val_loss: 0.0761 - val_f1_score: 0.9810\n",
            "Epoch 27/80\n",
            "128/128 [==============================] - 4s 31ms/step - loss: 0.0643 - f1_score: 0.9663 - val_loss: 0.0653 - val_f1_score: 0.9793\n",
            "Epoch 28/80\n",
            "128/128 [==============================] - 4s 26ms/step - loss: 0.0575 - f1_score: 0.9668 - val_loss: 0.1176 - val_f1_score: 0.9578\n",
            "Epoch 29/80\n",
            "128/128 [==============================] - 4s 28ms/step - loss: 0.0671 - f1_score: 0.9690 - val_loss: 0.0651 - val_f1_score: 0.9781\n",
            "Epoch 30/80\n",
            "128/128 [==============================] - 4s 29ms/step - loss: 0.0487 - f1_score: 0.9769 - val_loss: 0.0628 - val_f1_score: 0.9822\n",
            "Epoch 31/80\n",
            "128/128 [==============================] - 5s 35ms/step - loss: 0.0417 - f1_score: 0.9718 - val_loss: 0.0668 - val_f1_score: 0.9865\n",
            "Epoch 32/80\n",
            "128/128 [==============================] - 4s 28ms/step - loss: 0.0334 - f1_score: 0.9808 - val_loss: 0.0523 - val_f1_score: 0.9853\n",
            "Epoch 33/80\n",
            "128/128 [==============================] - 5s 37ms/step - loss: 0.0206 - f1_score: 0.9912 - val_loss: 0.0353 - val_f1_score: 0.9911\n",
            "Epoch 34/80\n",
            "128/128 [==============================] - 5s 37ms/step - loss: 0.0470 - f1_score: 0.9761 - val_loss: 0.1177 - val_f1_score: 0.9482\n",
            "Epoch 35/80\n",
            "128/128 [==============================] - 4s 27ms/step - loss: 0.0349 - f1_score: 0.9767 - val_loss: 0.0492 - val_f1_score: 0.9868\n",
            "Epoch 36/80\n",
            "128/128 [==============================] - 3s 26ms/step - loss: 0.0514 - f1_score: 0.9728 - val_loss: 0.0670 - val_f1_score: 0.9793\n",
            "Epoch 37/80\n",
            "128/128 [==============================] - 5s 38ms/step - loss: 0.0263 - f1_score: 0.9887 - val_loss: 0.0704 - val_f1_score: 0.9869\n",
            "Epoch 38/80\n",
            "128/128 [==============================] - 5s 40ms/step - loss: 0.0251 - f1_score: 0.9850 - val_loss: 0.0697 - val_f1_score: 0.9869\n",
            "Epoch 39/80\n",
            "128/128 [==============================] - 5s 37ms/step - loss: 0.0326 - f1_score: 0.9904 - val_loss: 0.0964 - val_f1_score: 0.9713\n",
            "Epoch 40/80\n",
            "128/128 [==============================] - 3s 26ms/step - loss: 0.0538 - f1_score: 0.9730 - val_loss: 0.0687 - val_f1_score: 0.9808\n",
            "Epoch 41/80\n",
            "128/128 [==============================] - 4s 28ms/step - loss: 0.0315 - f1_score: 0.9829 - val_loss: 0.0641 - val_f1_score: 0.9857\n",
            "Epoch 42/80\n",
            "128/128 [==============================] - 5s 35ms/step - loss: 0.0354 - f1_score: 0.9842 - val_loss: 0.0549 - val_f1_score: 0.9870\n",
            "Epoch 43/80\n",
            "128/128 [==============================] - 4s 29ms/step - loss: 0.0431 - f1_score: 0.9767 - val_loss: 0.0769 - val_f1_score: 0.9765\n",
            "Epoch 44/80\n",
            "128/128 [==============================] - 4s 29ms/step - loss: 0.0472 - f1_score: 0.9707 - val_loss: 0.0684 - val_f1_score: 0.9840\n",
            "Epoch 45/80\n",
            "128/128 [==============================] - 4s 31ms/step - loss: 0.0395 - f1_score: 0.9815 - val_loss: 0.0847 - val_f1_score: 0.9786\n",
            "Epoch 46/80\n",
            "128/128 [==============================] - 4s 32ms/step - loss: 0.0333 - f1_score: 0.9794 - val_loss: 0.0888 - val_f1_score: 0.9816\n",
            "Epoch 47/80\n",
            "128/128 [==============================] - 3s 26ms/step - loss: 0.0288 - f1_score: 0.9899 - val_loss: 0.1597 - val_f1_score: 0.9656\n",
            "Epoch 48/80\n",
            "128/128 [==============================] - 4s 30ms/step - loss: 0.0304 - f1_score: 0.9852 - val_loss: 0.0705 - val_f1_score: 0.9735\n",
            "Epoch 49/80\n",
            "128/128 [==============================] - 4s 33ms/step - loss: 0.0256 - f1_score: 0.9829 - val_loss: 0.0558 - val_f1_score: 0.9905\n",
            "Epoch 50/80\n",
            "128/128 [==============================] - 4s 28ms/step - loss: 0.0306 - f1_score: 0.9863 - val_loss: 0.0569 - val_f1_score: 0.9854\n",
            "Epoch 51/80\n",
            "128/128 [==============================] - 4s 27ms/step - loss: 0.0399 - f1_score: 0.9771 - val_loss: 0.0730 - val_f1_score: 0.9827\n",
            "Epoch 52/80\n",
            "128/128 [==============================] - 5s 35ms/step - loss: 0.0426 - f1_score: 0.9748 - val_loss: 0.0572 - val_f1_score: 0.9838\n",
            "Epoch 53/80\n",
            "128/128 [==============================] - 3s 26ms/step - loss: 0.0195 - f1_score: 0.9914 - val_loss: 0.0895 - val_f1_score: 0.9816\n",
            "Epoch 54/80\n",
            "128/128 [==============================] - 4s 28ms/step - loss: 0.0206 - f1_score: 0.9898 - val_loss: 0.0763 - val_f1_score: 0.9783\n",
            "Epoch 55/80\n",
            "128/128 [==============================] - 4s 29ms/step - loss: 0.0339 - f1_score: 0.9858 - val_loss: 0.0805 - val_f1_score: 0.9854\n",
            "Epoch 56/80\n",
            "128/128 [==============================] - 4s 27ms/step - loss: 0.0210 - f1_score: 0.9918 - val_loss: 0.0592 - val_f1_score: 0.9818\n",
            "Epoch 57/80\n",
            "128/128 [==============================] - 4s 28ms/step - loss: 0.0254 - f1_score: 0.9880 - val_loss: 0.1470 - val_f1_score: 0.9712\n",
            "Epoch 58/80\n",
            "128/128 [==============================] - 5s 36ms/step - loss: 0.0269 - f1_score: 0.9889 - val_loss: 0.0546 - val_f1_score: 0.9839\n",
            "Epoch 59/80\n",
            "128/128 [==============================] - 4s 28ms/step - loss: 0.0262 - f1_score: 0.9879 - val_loss: 0.0754 - val_f1_score: 0.9849\n",
            "Epoch 60/80\n",
            "128/128 [==============================] - 4s 28ms/step - loss: 0.0205 - f1_score: 0.9908 - val_loss: 0.0808 - val_f1_score: 0.9767\n",
            "Epoch 61/80\n",
            "128/128 [==============================] - 5s 35ms/step - loss: 0.0297 - f1_score: 0.9837 - val_loss: 0.0769 - val_f1_score: 0.9806\n",
            "Epoch 62/80\n",
            "128/128 [==============================] - 3s 26ms/step - loss: 0.0317 - f1_score: 0.9824 - val_loss: 0.0754 - val_f1_score: 0.9769\n",
            "Epoch 63/80\n",
            "128/128 [==============================] - 4s 34ms/step - loss: 0.0390 - f1_score: 0.9881 - val_loss: 0.1715 - val_f1_score: 0.9577\n",
            "Epoch 64/80\n",
            "128/128 [==============================] - 4s 28ms/step - loss: 0.0261 - f1_score: 0.9802 - val_loss: 0.0831 - val_f1_score: 0.9566\n",
            "Epoch 65/80\n",
            "128/128 [==============================] - 4s 29ms/step - loss: 0.0230 - f1_score: 0.9928 - val_loss: 0.1012 - val_f1_score: 0.9760\n",
            "Epoch 66/80\n",
            "128/128 [==============================] - 5s 36ms/step - loss: 0.0356 - f1_score: 0.9829 - val_loss: 0.1058 - val_f1_score: 0.9575\n",
            "Epoch 67/80\n",
            "128/128 [==============================] - 4s 29ms/step - loss: 0.0222 - f1_score: 0.9876 - val_loss: 0.0638 - val_f1_score: 0.9846\n",
            "Epoch 68/80\n",
            "128/128 [==============================] - 4s 28ms/step - loss: 0.0360 - f1_score: 0.9876 - val_loss: 0.0935 - val_f1_score: 0.9740\n",
            "Epoch 69/80\n",
            "128/128 [==============================] - 5s 36ms/step - loss: 0.0266 - f1_score: 0.9878 - val_loss: 0.0611 - val_f1_score: 0.9868\n",
            "Epoch 70/80\n",
            "128/128 [==============================] - 4s 29ms/step - loss: 0.0229 - f1_score: 0.9852 - val_loss: 0.1131 - val_f1_score: 0.9723\n",
            "Epoch 71/80\n",
            "128/128 [==============================] - 4s 27ms/step - loss: 0.0260 - f1_score: 0.9906 - val_loss: 0.0700 - val_f1_score: 0.9846\n",
            "Epoch 72/80\n",
            "128/128 [==============================] - 5s 36ms/step - loss: 0.0391 - f1_score: 0.9789 - val_loss: 0.0714 - val_f1_score: 0.9718\n",
            "Epoch 73/80\n",
            "128/128 [==============================] - 4s 28ms/step - loss: 0.0203 - f1_score: 0.9884 - val_loss: 0.0477 - val_f1_score: 0.9875\n",
            "Epoch 74/80\n",
            "128/128 [==============================] - 4s 28ms/step - loss: 0.0201 - f1_score: 0.9904 - val_loss: 0.0879 - val_f1_score: 0.9787\n",
            "Epoch 75/80\n",
            "128/128 [==============================] - 5s 37ms/step - loss: 0.0221 - f1_score: 0.9871 - val_loss: 0.0648 - val_f1_score: 0.9848\n",
            "Epoch 76/80\n",
            "128/128 [==============================] - 4s 29ms/step - loss: 0.0289 - f1_score: 0.9880 - val_loss: 0.0625 - val_f1_score: 0.9844\n",
            "Epoch 77/80\n",
            "128/128 [==============================] - 4s 27ms/step - loss: 0.0434 - f1_score: 0.9812 - val_loss: 0.1066 - val_f1_score: 0.9719\n",
            "Epoch 78/80\n",
            "128/128 [==============================] - 4s 33ms/step - loss: 0.0276 - f1_score: 0.9897 - val_loss: 0.0747 - val_f1_score: 0.9833\n",
            "Epoch 79/80\n",
            "128/128 [==============================] - 4s 34ms/step - loss: 0.0155 - f1_score: 0.9913 - val_loss: 0.0578 - val_f1_score: 0.9888\n",
            "Epoch 80/80\n",
            "128/128 [==============================] - 4s 34ms/step - loss: 0.0157 - f1_score: 0.9931 - val_loss: 0.0499 - val_f1_score: 0.9924\n"
          ]
        }
      ]
    },
    {
      "cell_type": "code",
      "source": [
        "history_plot(history)"
      ],
      "metadata": {
        "id": "-j2bf9lOcJ5-",
        "colab": {
          "base_uri": "https://localhost:8080/",
          "height": 472
        },
        "outputId": "1b5ab7f0-e09d-42e0-bff9-9e61ee71fbf1"
      },
      "execution_count": 22,
      "outputs": [
        {
          "output_type": "display_data",
          "data": {
            "text/plain": [
              "<Figure size 640x480 with 1 Axes>"
            ],
            "image/png": "[encoded data removed]"
          },
          "metadata": {}
        }
      ]
    },
    {
      "cell_type": "code",
      "source": [
        "print(f\"The best epoch is: {model_checkpoint.best:.3f}\")\n",
        "\n",
        "# Load the model with the best weights\n",
        "best_model_path = '/content/drive/MyDrive/blockchain/best_model_alz_test'\n",
        "best_model = load_model(best_model_path)"
      ],
      "metadata": {
        "colab": {
          "base_uri": "https://localhost:8080/"
        },
        "id": "iihQadsFEAK0",
        "outputId": "ac36c37b-afa5-46d8-f8a6-7eecc99b21c3"
      },
      "execution_count": 23,
      "outputs": [
        {
          "output_type": "stream",
          "name": "stdout",
          "text": [
            "The best epoch is: 0.992\n"
          ]
        }
      ]
    },
    {
      "cell_type": "code",
      "source": [
        "y_true, y_pred = predictions(test_dataset, best_model)\n",
        "# Generate and print the classification report\n",
        "class_names = LABELS_ALZ if train_path == DATASET_TRAIN_PATH_ALZ else LABELS_TUMOR\n",
        "print(\"\\t\\tClassification report:\\n\")\n",
        "print(classification_report(y_true, y_pred,target_names=class_names))"
      ],
      "metadata": {
        "colab": {
          "base_uri": "https://localhost:8080/"
        },
        "id": "diyxDxdZETMd",
        "outputId": "96e314ea-b82d-43f9-96ee-9a886fe29896"
      },
      "execution_count": 24,
      "outputs": [
        {
          "output_type": "stream",
          "name": "stdout",
          "text": [
            "\t\tClassification report:\n",
            "\n",
            "                  precision    recall  f1-score   support\n",
            "\n",
            "     NonDemented       0.99      0.99      0.99       512\n",
            "VeryMildDemented       0.99      0.99      0.99       359\n",
            "    MildDemented       0.99      0.99      0.99       144\n",
            "ModerateDemented       1.00      1.00      1.00        10\n",
            "\n",
            "        accuracy                           0.99      1025\n",
            "       macro avg       0.99      0.99      0.99      1025\n",
            "    weighted avg       0.99      0.99      0.99      1025\n",
            "\n"
          ]
        }
      ]
    }
  ],
  "metadata": {
    "accelerator": "GPU",
    "colab": {
      "provenance": [],
      "gpuType": "T4"
    },
    "kernelspec": {
      "display_name": "Python 3",
      "name": "python3"
    },
    "language_info": {
      "name": "python"
    }
  },
  "nbformat": 4,
  "nbformat_minor": 0
}